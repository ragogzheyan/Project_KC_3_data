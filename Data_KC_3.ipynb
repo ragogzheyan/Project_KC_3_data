{
 "cells": [
  {
   "cell_type": "markdown",
   "metadata": {},
   "source": [
    "### Project 3\n",
    "\n",
    "#### Projected College Cash Flow Analysis Combining Expenses and Available Resources\n",
    "    Attending college is an expensive proposition and resources often are limited. To plan for a four-year college career, \n",
    "    students must organize their anticipated expenses and resources. Current average collage cost for the 2022: for public undergraduate tuition& fees is $7,967 for state residents and $13,006 for out-of-state students.\n",
    "\n",
    "Assign Project Goal:\n",
    "\n",
    "    - Make a .py (or .ipynb) file that contains the following:\n",
    "    - import two sets of data from any source\n",
    "    - join them / combine them into one data frame.\n",
    "        * use any kind of join: outer, right, left joins, inner joins are the most common."
   ]
  },
  {
   "cell_type": "code",
   "execution_count": 19,
   "metadata": {},
   "outputs": [],
   "source": [
    "# import pandas as pd\n",
    "import pandas as pd \n",
    "# import numpy as np\n",
    "import numpy as np "
   ]
  },
  {
   "cell_type": "code",
   "execution_count": 20,
   "metadata": {},
   "outputs": [],
   "source": [
    "pd.set_option('display.max.columns',10000)"
   ]
  },
  {
   "cell_type": "code",
   "execution_count": null,
   "metadata": {},
   "outputs": [],
   "source": [
    "# Dictionary containing (expenses) data\n",
    "# State_tuition = current year\n",
    "# Miscellaneous row = annual tuition rate hike (emergency loan)\n",
    "\n",
    "data1 = {\n",
    "         'key': ['A0', 'A1', 'A2', 'A3', 'A4','A001'],\n",
    "         'cost': ['room_board', 'state_tuition', 'clothes', 'entertainment', 'unforeseen_cost', 'miscellaneous'], \n",
    "         'freshman': [3290.00, 7967.00, 490.00, 635.00, 325.00, 0], \n",
    "         'sophomore': [3454.50, 7967.00, 514.50, 666.75, 341.25, np.nan],\n",
    "         'junior': [3627.23, 7967.00, 540.22, 700.09, 358.31, 0],\n",
    "         'senior': [3808.59, 7967.00, 567.24, 735.09, 376.23, np.nan]\n",
    "}\n",
    "        \n",
    "data1 = pd.DataFrame(data1)\n",
    "\n",
    "data1.head(7)"
   ]
  },
  {
   "cell_type": "code",
   "execution_count": null,
   "metadata": {},
   "outputs": [],
   "source": [
    "# Dictionary containing (resources) data \n",
    "\n",
    "data2 = {\n",
    "         'key': ['A5', 'A6', 'A7', 'A8', 'A9','A002'],\n",
    "         'cost': ['savings', 'parents', 'job', 'financial_aid', 'other_cost','miscellaneous'], \n",
    "         'freshman': [1300.00, 5080.97, 1450.00, 4200.00, 300.00, np.nan], \n",
    "         'sophomore': [1300.00, 5197.97, 1522.50, 4410.00, 380.00, 0],\n",
    "         'junior': [1314.00, 5320.82, 1598.64, 4630.50, 450.00, np.nan],\n",
    "         'senior': [1352.20, 5449.81, 1678.56, 4862.03, 500.00, 0]\n",
    "} \n",
    "\n",
    "data2 = pd.DataFrame(data2)\n",
    "\n",
    "data2.head(7)"
   ]
  },
  {
   "cell_type": "code",
   "execution_count": null,
   "metadata": {},
   "outputs": [],
   "source": [
    "# Outer join\n",
    "# Replace missing value with zeros\n",
    "\n",
    "pd.merge(data1, data2, on=['freshman','sophomore','junior','senior','key','cost'], how='outer').fillna(0)\n"
   ]
  },
  {
   "cell_type": "code",
   "execution_count": null,
   "metadata": {},
   "outputs": [],
   "source": [
    "# Sum columns/rows of expenses\n",
    "\n",
    "data1.loc[6]= data1.sum(numeric_only=True, axis=0)   #index_col=['cost'])\n",
    "data1.loc[:,'total'] = data1.sum(numeric_only=True, axis=1)\n",
    "data1.at[6,'cost'] = 'total_expenses'\n",
    "\n",
    "df1 = data1.fillna(0)\n",
    "\n",
    "df1"
   ]
  },
  {
   "cell_type": "code",
   "execution_count": null,
   "metadata": {},
   "outputs": [],
   "source": [
    "# Sum columns/rows of resources\n",
    "\n",
    "data2.loc[6]= data2.sum(numeric_only=True, axis=0)\n",
    "data2.loc[ :,'total'] = data2.sum(numeric_only=True, axis=1)\n",
    "data2.at[6,'cost'] = 'total_resources'\n",
    "\n",
    "df2 = data2.fillna(0)\n",
    "\n",
    "df2"
   ]
  },
  {
   "cell_type": "code",
   "execution_count": null,
   "metadata": {},
   "outputs": [],
   "source": [
    "# Using the merge function with outer join to display total expenses = total resouces for the four-year budget \n",
    "\n",
    "pd.merge(df1, df2, on=['freshman','sophomore','junior','senior','key','cost','total'], how='outer')\n"
   ]
  },
  {
   "cell_type": "code",
   "execution_count": null,
   "metadata": {},
   "outputs": [],
   "source": [
    "# The following are also merges but in this DataFrame the only join that working is outer \n",
    "# DataFrame 2 right join\n",
    "pd.merge(df1, df2, on=['freshman','sophomore','junior','senior','total', 'key','cost'], how='right')\n",
    "\n",
    "# DataFrame 1 left join\n",
    "pd.merge(df1, df2, on=['freshman','sophomore','junior','senior','total', 'key','cost'], how='left')\n",
    "\n",
    "# Inner join\n",
    "pd.merge(df1, df2, on=['cost'], how='inner')\n",
    "\n",
    "# Join by index\n",
    "df_index = pd.merge(df1, df2, right_index=True, left_index=True)\n",
    "\n",
    "df_index"
   ]
  },
  {
   "cell_type": "code",
   "execution_count": null,
   "metadata": {},
   "outputs": [],
   "source": []
  }
 ],
 "metadata": {
  "kernelspec": {
   "display_name": "Python 3.9.7 ('base')",
   "language": "python",
   "name": "python3"
  },
  "language_info": {
   "codemirror_mode": {
    "name": "ipython",
    "version": 3
   },
   "file_extension": ".py",
   "mimetype": "text/x-python",
   "name": "python",
   "nbconvert_exporter": "python",
   "pygments_lexer": "ipython3",
   "version": "3.9.7"
  },
  "orig_nbformat": 4,
  "vscode": {
   "interpreter": {
    "hash": "ad2bdc8ecc057115af97d19610ffacc2b4e99fae6737bb82f5d7fb13d2f2c186"
   }
  }
 },
 "nbformat": 4,
 "nbformat_minor": 2
}
